{
 "cells": [
  {
   "cell_type": "markdown",
   "id": "e379be5a",
   "metadata": {},
   "source": [
    "## Machine learning Part 1"
   ]
  },
  {
   "cell_type": "markdown",
   "id": "eeec339a",
   "metadata": {},
   "source": [
    "#### This script contains the following\n",
    "\n",
    "1. Importing libraries and data\n",
    "2. Data cleaning\n",
    "3. Data prep for regression analysis\n",
    "4. Regression analysis"
   ]
  },
  {
   "cell_type": "markdown",
   "id": "b577ce31",
   "metadata": {},
   "source": [
    "#### 1. Importing libraries and data"
   ]
  },
  {
   "cell_type": "code",
   "execution_count": 2,
   "id": "3c22117a",
   "metadata": {},
   "outputs": [],
   "source": [
    "import pandas as pd\n",
    "import numpy as np\n",
    "import seaborn as sns\n",
    "import os\n",
    "import matplotlib\n",
    "import matplotlib.pyplot as plt\n",
    "import sklearn\n",
    "from sklearn.model_selection import train_test_split\n",
    "from sklearn.linear_model import LinearRegression\n",
    "from sklearn.metrics import mean_squared_error, r2_score"
   ]
  },
  {
   "cell_type": "code",
   "execution_count": 3,
   "id": "d3bc207b",
   "metadata": {},
   "outputs": [],
   "source": [
    "# Ensures that the graphs created are displayed within the notebook without the need to \"call\" them specifically.\n",
    "%matplotlib inline"
   ]
  },
  {
   "cell_type": "code",
   "execution_count": 4,
   "id": "679d924e",
   "metadata": {},
   "outputs": [],
   "source": [
    "df = pd.read_csv(r'C:\\Users\\heidi\\OneDrive\\CareerFoundry\\Achievement6 Sourcing Open Data\\Exercise 6.4\\Answers 6.4\\Data\\ufc-master-clean1.csv', index_col = False)"
   ]
  },
  {
   "cell_type": "code",
   "execution_count": 6,
   "id": "e461003b",
   "metadata": {},
   "outputs": [],
   "source": [
    "path = (r'C:\\Users\\heidi\\OneDrive\\CareerFoundry\\Achievement6 Sourcing Open Data\\Exercise 6.4')"
   ]
  },
  {
   "cell_type": "markdown",
   "id": "44005498",
   "metadata": {},
   "source": [
    "#### 2. Data cleaning"
   ]
  },
  {
   "cell_type": "code",
   "execution_count": 7,
   "id": "363bc1e5",
   "metadata": {},
   "outputs": [
    {
     "data": {
      "text/plain": [
       "Index(['R_fighter', 'B_fighter', 'R_odds', 'B_odds', 'date', 'City',\n",
       "       'State/Province', 'country', 'Winner', 'title_bout', 'weight_class',\n",
       "       'gender', 'no_of_rounds', 'B_Stance', 'B_Height_cms', 'B_Reach_cms',\n",
       "       'B_Weight_lbs', 'R_Stance', 'R_Height_cms', 'R_Reach_cms',\n",
       "       'R_Weight_lbs', 'R_age', 'B_age', 'height_dif', 'reach_dif', 'age_dif',\n",
       "       'Finish2', 'finish', 'finish_details', 'finish_round',\n",
       "       'finish_round_time'],\n",
       "      dtype='object')"
      ]
     },
     "execution_count": 7,
     "metadata": {},
     "output_type": "execute_result"
    }
   ],
   "source": [
    "df.columns"
   ]
  },
  {
   "cell_type": "code",
   "execution_count": 8,
   "id": "370e71ec",
   "metadata": {},
   "outputs": [
    {
     "data": {
      "text/html": [
       "<div>\n",
       "<style scoped>\n",
       "    .dataframe tbody tr th:only-of-type {\n",
       "        vertical-align: middle;\n",
       "    }\n",
       "\n",
       "    .dataframe tbody tr th {\n",
       "        vertical-align: top;\n",
       "    }\n",
       "\n",
       "    .dataframe thead th {\n",
       "        text-align: right;\n",
       "    }\n",
       "</style>\n",
       "<table border=\"1\" class=\"dataframe\">\n",
       "  <thead>\n",
       "    <tr style=\"text-align: right;\">\n",
       "      <th></th>\n",
       "      <th>R_fighter</th>\n",
       "      <th>B_fighter</th>\n",
       "      <th>R_odds</th>\n",
       "      <th>B_odds</th>\n",
       "      <th>date</th>\n",
       "      <th>City</th>\n",
       "      <th>State/Province</th>\n",
       "      <th>country</th>\n",
       "      <th>Winner</th>\n",
       "      <th>title_bout</th>\n",
       "      <th>...</th>\n",
       "      <th>R_age</th>\n",
       "      <th>B_age</th>\n",
       "      <th>height_dif</th>\n",
       "      <th>reach_dif</th>\n",
       "      <th>age_dif</th>\n",
       "      <th>Finish2</th>\n",
       "      <th>finish</th>\n",
       "      <th>finish_details</th>\n",
       "      <th>finish_round</th>\n",
       "      <th>finish_round_time</th>\n",
       "    </tr>\n",
       "  </thead>\n",
       "  <tbody>\n",
       "    <tr>\n",
       "      <th>0</th>\n",
       "      <td>Anthony Pettis</td>\n",
       "      <td>Alex Morono</td>\n",
       "      <td>-210</td>\n",
       "      <td>175</td>\n",
       "      <td>12/19/2020</td>\n",
       "      <td>Las Vegas</td>\n",
       "      <td>Nevada</td>\n",
       "      <td>USA</td>\n",
       "      <td>Red</td>\n",
       "      <td>False</td>\n",
       "      <td>...</td>\n",
       "      <td>33</td>\n",
       "      <td>30</td>\n",
       "      <td>2.54</td>\n",
       "      <td>0.00</td>\n",
       "      <td>-3</td>\n",
       "      <td>U-DEC</td>\n",
       "      <td>U-DEC</td>\n",
       "      <td>NaN</td>\n",
       "      <td>3</td>\n",
       "      <td>5:00</td>\n",
       "    </tr>\n",
       "    <tr>\n",
       "      <th>1</th>\n",
       "      <td>Christos Giagos</td>\n",
       "      <td>Carlton Minus</td>\n",
       "      <td>-345</td>\n",
       "      <td>285</td>\n",
       "      <td>12/19/2020</td>\n",
       "      <td>Las Vegas</td>\n",
       "      <td>Nevada</td>\n",
       "      <td>USA</td>\n",
       "      <td>Red</td>\n",
       "      <td>False</td>\n",
       "      <td>...</td>\n",
       "      <td>30</td>\n",
       "      <td>27</td>\n",
       "      <td>0.00</td>\n",
       "      <td>10.16</td>\n",
       "      <td>-3</td>\n",
       "      <td>U-DEC</td>\n",
       "      <td>U-DEC</td>\n",
       "      <td>NaN</td>\n",
       "      <td>3</td>\n",
       "      <td>5:00</td>\n",
       "    </tr>\n",
       "    <tr>\n",
       "      <th>2</th>\n",
       "      <td>Deron Winn</td>\n",
       "      <td>Antonio Arroyo</td>\n",
       "      <td>160</td>\n",
       "      <td>-185</td>\n",
       "      <td>12/19/2020</td>\n",
       "      <td>Las Vegas</td>\n",
       "      <td>Nevada</td>\n",
       "      <td>USA</td>\n",
       "      <td>Red</td>\n",
       "      <td>False</td>\n",
       "      <td>...</td>\n",
       "      <td>31</td>\n",
       "      <td>31</td>\n",
       "      <td>22.86</td>\n",
       "      <td>7.62</td>\n",
       "      <td>0</td>\n",
       "      <td>U-DEC</td>\n",
       "      <td>U-DEC</td>\n",
       "      <td>NaN</td>\n",
       "      <td>3</td>\n",
       "      <td>5:00</td>\n",
       "    </tr>\n",
       "    <tr>\n",
       "      <th>3</th>\n",
       "      <td>Gillian Robertson</td>\n",
       "      <td>Taila Santos</td>\n",
       "      <td>-145</td>\n",
       "      <td>125</td>\n",
       "      <td>12/19/2020</td>\n",
       "      <td>Las Vegas</td>\n",
       "      <td>Nevada</td>\n",
       "      <td>USA</td>\n",
       "      <td>Blue</td>\n",
       "      <td>False</td>\n",
       "      <td>...</td>\n",
       "      <td>27</td>\n",
       "      <td>25</td>\n",
       "      <td>-2.54</td>\n",
       "      <td>-12.70</td>\n",
       "      <td>-2</td>\n",
       "      <td>U-DEC</td>\n",
       "      <td>U-DEC</td>\n",
       "      <td>NaN</td>\n",
       "      <td>3</td>\n",
       "      <td>5:00</td>\n",
       "    </tr>\n",
       "    <tr>\n",
       "      <th>4</th>\n",
       "      <td>Jimmy Flick</td>\n",
       "      <td>Cody Durden</td>\n",
       "      <td>-157</td>\n",
       "      <td>137</td>\n",
       "      <td>12/19/2020</td>\n",
       "      <td>Las Vegas</td>\n",
       "      <td>Nevada</td>\n",
       "      <td>USA</td>\n",
       "      <td>Red</td>\n",
       "      <td>False</td>\n",
       "      <td>...</td>\n",
       "      <td>30</td>\n",
       "      <td>29</td>\n",
       "      <td>0.00</td>\n",
       "      <td>-2.54</td>\n",
       "      <td>-1</td>\n",
       "      <td>SUB</td>\n",
       "      <td>SUB</td>\n",
       "      <td>Triangle choke</td>\n",
       "      <td>1</td>\n",
       "      <td>3:18</td>\n",
       "    </tr>\n",
       "  </tbody>\n",
       "</table>\n",
       "<p>5 rows × 31 columns</p>\n",
       "</div>"
      ],
      "text/plain": [
       "           R_fighter       B_fighter  R_odds  B_odds        date       City  \\\n",
       "0     Anthony Pettis     Alex Morono    -210     175  12/19/2020  Las Vegas   \n",
       "1    Christos Giagos   Carlton Minus    -345     285  12/19/2020  Las Vegas   \n",
       "2         Deron Winn  Antonio Arroyo     160    -185  12/19/2020  Las Vegas   \n",
       "3  Gillian Robertson    Taila Santos    -145     125  12/19/2020  Las Vegas   \n",
       "4        Jimmy Flick     Cody Durden    -157     137  12/19/2020  Las Vegas   \n",
       "\n",
       "  State/Province country Winner  title_bout  ... R_age B_age  height_dif  \\\n",
       "0         Nevada     USA    Red       False  ...    33    30        2.54   \n",
       "1         Nevada     USA    Red       False  ...    30    27        0.00   \n",
       "2         Nevada     USA    Red       False  ...    31    31       22.86   \n",
       "3         Nevada     USA   Blue       False  ...    27    25       -2.54   \n",
       "4         Nevada     USA    Red       False  ...    30    29        0.00   \n",
       "\n",
       "  reach_dif  age_dif  Finish2  finish  finish_details  finish_round  \\\n",
       "0      0.00       -3    U-DEC   U-DEC             NaN             3   \n",
       "1     10.16       -3    U-DEC   U-DEC             NaN             3   \n",
       "2      7.62        0    U-DEC   U-DEC             NaN             3   \n",
       "3    -12.70       -2    U-DEC   U-DEC             NaN             3   \n",
       "4     -2.54       -1      SUB     SUB  Triangle choke             1   \n",
       "\n",
       "   finish_round_time  \n",
       "0               5:00  \n",
       "1               5:00  \n",
       "2               5:00  \n",
       "3               5:00  \n",
       "4               3:18  \n",
       "\n",
       "[5 rows x 31 columns]"
      ]
     },
     "execution_count": 8,
     "metadata": {},
     "output_type": "execute_result"
    }
   ],
   "source": [
    "df.head()"
   ]
  },
  {
   "cell_type": "code",
   "execution_count": 9,
   "id": "deac1507",
   "metadata": {},
   "outputs": [
    {
     "data": {
      "text/plain": [
       "(4515, 31)"
      ]
     },
     "execution_count": 9,
     "metadata": {},
     "output_type": "execute_result"
    }
   ],
   "source": [
    "df.shape"
   ]
  },
  {
   "cell_type": "markdown",
   "id": "eb80c438",
   "metadata": {},
   "source": [
    "#### Missing values"
   ]
  },
  {
   "cell_type": "code",
   "execution_count": 10,
   "id": "415768cc",
   "metadata": {},
   "outputs": [
    {
     "data": {
      "text/plain": [
       "R_fighter               0\n",
       "B_fighter               0\n",
       "R_odds                  0\n",
       "B_odds                  0\n",
       "date                    0\n",
       "City                    0\n",
       "State/Province          0\n",
       "country                 0\n",
       "Winner                  0\n",
       "title_bout              0\n",
       "weight_class            0\n",
       "gender                  0\n",
       "no_of_rounds            0\n",
       "B_Stance                0\n",
       "B_Height_cms            0\n",
       "B_Reach_cms             0\n",
       "B_Weight_lbs            0\n",
       "R_Stance                0\n",
       "R_Height_cms            0\n",
       "R_Reach_cms             0\n",
       "R_Weight_lbs            0\n",
       "R_age                   0\n",
       "B_age                   0\n",
       "height_dif              0\n",
       "reach_dif               0\n",
       "age_dif                 0\n",
       "Finish2                 0\n",
       "finish                  0\n",
       "finish_details       2229\n",
       "finish_round            0\n",
       "finish_round_time       0\n",
       "dtype: int64"
      ]
     },
     "execution_count": 10,
     "metadata": {},
     "output_type": "execute_result"
    }
   ],
   "source": [
    "# Check for missing values\n",
    "df.isnull().sum()\n",
    "# The missing values in finish details are expected due to the nature of the data. "
   ]
  },
  {
   "cell_type": "markdown",
   "id": "f5d88ec6",
   "metadata": {},
   "source": [
    "#### Duplicates check"
   ]
  },
  {
   "cell_type": "code",
   "execution_count": 11,
   "id": "e0c9523c",
   "metadata": {},
   "outputs": [],
   "source": [
    "dups = df.duplicated()"
   ]
  },
  {
   "cell_type": "code",
   "execution_count": 12,
   "id": "f0a862cb",
   "metadata": {},
   "outputs": [
    {
     "data": {
      "text/plain": [
       "(4515,)"
      ]
     },
     "execution_count": 12,
     "metadata": {},
     "output_type": "execute_result"
    }
   ],
   "source": [
    "# No duplicates\n",
    "dups.shape"
   ]
  },
  {
   "cell_type": "markdown",
   "id": "b3625b32",
   "metadata": {},
   "source": [
    "#### Extreme values check"
   ]
  },
  {
   "cell_type": "code",
   "execution_count": 15,
   "id": "87ebe30a",
   "metadata": {},
   "outputs": [
    {
     "data": {
      "text/html": [
       "<div>\n",
       "<style scoped>\n",
       "    .dataframe tbody tr th:only-of-type {\n",
       "        vertical-align: middle;\n",
       "    }\n",
       "\n",
       "    .dataframe tbody tr th {\n",
       "        vertical-align: top;\n",
       "    }\n",
       "\n",
       "    .dataframe thead th {\n",
       "        text-align: right;\n",
       "    }\n",
       "</style>\n",
       "<table border=\"1\" class=\"dataframe\">\n",
       "  <thead>\n",
       "    <tr style=\"text-align: right;\">\n",
       "      <th></th>\n",
       "      <th>R_fighter</th>\n",
       "      <th>B_fighter</th>\n",
       "      <th>R_odds</th>\n",
       "      <th>B_odds</th>\n",
       "      <th>date</th>\n",
       "      <th>City</th>\n",
       "      <th>State/Province</th>\n",
       "      <th>country</th>\n",
       "      <th>Winner</th>\n",
       "      <th>title_bout</th>\n",
       "      <th>...</th>\n",
       "      <th>age_dif</th>\n",
       "      <th>Finish2</th>\n",
       "      <th>finish</th>\n",
       "      <th>finish_details</th>\n",
       "      <th>finish_round</th>\n",
       "      <th>finish_round_time</th>\n",
       "      <th>average_height</th>\n",
       "      <th>average_age</th>\n",
       "      <th>average_reach</th>\n",
       "      <th>average_weight</th>\n",
       "    </tr>\n",
       "  </thead>\n",
       "  <tbody>\n",
       "    <tr>\n",
       "      <th>0</th>\n",
       "      <td>Anthony Pettis</td>\n",
       "      <td>Alex Morono</td>\n",
       "      <td>-210</td>\n",
       "      <td>175</td>\n",
       "      <td>12/19/2020</td>\n",
       "      <td>Las Vegas</td>\n",
       "      <td>Nevada</td>\n",
       "      <td>USA</td>\n",
       "      <td>Red</td>\n",
       "      <td>False</td>\n",
       "      <td>...</td>\n",
       "      <td>-3</td>\n",
       "      <td>U-DEC</td>\n",
       "      <td>U-DEC</td>\n",
       "      <td>NaN</td>\n",
       "      <td>3</td>\n",
       "      <td>5:00</td>\n",
       "      <td>179.07</td>\n",
       "      <td>31.5</td>\n",
       "      <td>182.88</td>\n",
       "      <td>162.5</td>\n",
       "    </tr>\n",
       "    <tr>\n",
       "      <th>1</th>\n",
       "      <td>Christos Giagos</td>\n",
       "      <td>Carlton Minus</td>\n",
       "      <td>-345</td>\n",
       "      <td>285</td>\n",
       "      <td>12/19/2020</td>\n",
       "      <td>Las Vegas</td>\n",
       "      <td>Nevada</td>\n",
       "      <td>USA</td>\n",
       "      <td>Red</td>\n",
       "      <td>False</td>\n",
       "      <td>...</td>\n",
       "      <td>-3</td>\n",
       "      <td>U-DEC</td>\n",
       "      <td>U-DEC</td>\n",
       "      <td>NaN</td>\n",
       "      <td>3</td>\n",
       "      <td>5:00</td>\n",
       "      <td>177.80</td>\n",
       "      <td>28.5</td>\n",
       "      <td>185.42</td>\n",
       "      <td>162.5</td>\n",
       "    </tr>\n",
       "    <tr>\n",
       "      <th>2</th>\n",
       "      <td>Deron Winn</td>\n",
       "      <td>Antonio Arroyo</td>\n",
       "      <td>160</td>\n",
       "      <td>-185</td>\n",
       "      <td>12/19/2020</td>\n",
       "      <td>Las Vegas</td>\n",
       "      <td>Nevada</td>\n",
       "      <td>USA</td>\n",
       "      <td>Red</td>\n",
       "      <td>False</td>\n",
       "      <td>...</td>\n",
       "      <td>0</td>\n",
       "      <td>U-DEC</td>\n",
       "      <td>U-DEC</td>\n",
       "      <td>NaN</td>\n",
       "      <td>3</td>\n",
       "      <td>5:00</td>\n",
       "      <td>179.07</td>\n",
       "      <td>31.0</td>\n",
       "      <td>181.61</td>\n",
       "      <td>185.0</td>\n",
       "    </tr>\n",
       "    <tr>\n",
       "      <th>3</th>\n",
       "      <td>Gillian Robertson</td>\n",
       "      <td>Taila Santos</td>\n",
       "      <td>-145</td>\n",
       "      <td>125</td>\n",
       "      <td>12/19/2020</td>\n",
       "      <td>Las Vegas</td>\n",
       "      <td>Nevada</td>\n",
       "      <td>USA</td>\n",
       "      <td>Blue</td>\n",
       "      <td>False</td>\n",
       "      <td>...</td>\n",
       "      <td>-2</td>\n",
       "      <td>U-DEC</td>\n",
       "      <td>U-DEC</td>\n",
       "      <td>NaN</td>\n",
       "      <td>3</td>\n",
       "      <td>5:00</td>\n",
       "      <td>166.37</td>\n",
       "      <td>26.0</td>\n",
       "      <td>166.37</td>\n",
       "      <td>125.0</td>\n",
       "    </tr>\n",
       "    <tr>\n",
       "      <th>4</th>\n",
       "      <td>Jimmy Flick</td>\n",
       "      <td>Cody Durden</td>\n",
       "      <td>-157</td>\n",
       "      <td>137</td>\n",
       "      <td>12/19/2020</td>\n",
       "      <td>Las Vegas</td>\n",
       "      <td>Nevada</td>\n",
       "      <td>USA</td>\n",
       "      <td>Red</td>\n",
       "      <td>False</td>\n",
       "      <td>...</td>\n",
       "      <td>-1</td>\n",
       "      <td>SUB</td>\n",
       "      <td>SUB</td>\n",
       "      <td>Triangle choke</td>\n",
       "      <td>1</td>\n",
       "      <td>3:18</td>\n",
       "      <td>170.18</td>\n",
       "      <td>29.5</td>\n",
       "      <td>171.45</td>\n",
       "      <td>125.0</td>\n",
       "    </tr>\n",
       "  </tbody>\n",
       "</table>\n",
       "<p>5 rows × 35 columns</p>\n",
       "</div>"
      ],
      "text/plain": [
       "           R_fighter       B_fighter  R_odds  B_odds        date       City  \\\n",
       "0     Anthony Pettis     Alex Morono    -210     175  12/19/2020  Las Vegas   \n",
       "1    Christos Giagos   Carlton Minus    -345     285  12/19/2020  Las Vegas   \n",
       "2         Deron Winn  Antonio Arroyo     160    -185  12/19/2020  Las Vegas   \n",
       "3  Gillian Robertson    Taila Santos    -145     125  12/19/2020  Las Vegas   \n",
       "4        Jimmy Flick     Cody Durden    -157     137  12/19/2020  Las Vegas   \n",
       "\n",
       "  State/Province country Winner  title_bout  ... age_dif Finish2  finish  \\\n",
       "0         Nevada     USA    Red       False  ...      -3   U-DEC   U-DEC   \n",
       "1         Nevada     USA    Red       False  ...      -3   U-DEC   U-DEC   \n",
       "2         Nevada     USA    Red       False  ...       0   U-DEC   U-DEC   \n",
       "3         Nevada     USA   Blue       False  ...      -2   U-DEC   U-DEC   \n",
       "4         Nevada     USA    Red       False  ...      -1     SUB     SUB   \n",
       "\n",
       "   finish_details  finish_round  finish_round_time  average_height  \\\n",
       "0             NaN             3               5:00          179.07   \n",
       "1             NaN             3               5:00          177.80   \n",
       "2             NaN             3               5:00          179.07   \n",
       "3             NaN             3               5:00          166.37   \n",
       "4  Triangle choke             1               3:18          170.18   \n",
       "\n",
       "  average_age  average_reach  average_weight  \n",
       "0        31.5         182.88           162.5  \n",
       "1        28.5         185.42           162.5  \n",
       "2        31.0         181.61           185.0  \n",
       "3        26.0         166.37           125.0  \n",
       "4        29.5         171.45           125.0  \n",
       "\n",
       "[5 rows x 35 columns]"
      ]
     },
     "execution_count": 15,
     "metadata": {},
     "output_type": "execute_result"
    }
   ],
   "source": [
    "# Add calculated column indicating 'averages'\n",
    "df[\"average_height\"] = (df[\"B_Height_cms\"] + df[\"R_Height_cms\"])/2\n",
    "df[\"average_age\"] = (df['R_age'] +  df['B_age'])/2\n",
    "df[\"average_reach\"] = (df['B_Reach_cms'] +  df['R_Reach_cms'])/2\n",
    "df[\"average_weight\"] = (df['B_Weight_lbs'] +  df['R_Weight_lbs'])/2\n",
    "df.head()"
   ]
  },
  {
   "cell_type": "code",
   "execution_count": 24,
   "id": "a2717bd3",
   "metadata": {},
   "outputs": [
    {
     "data": {
      "text/plain": [
       "<seaborn.axisgrid.FacetGrid at 0x2ac391ecfa0>"
      ]
     },
     "execution_count": 24,
     "metadata": {},
     "output_type": "execute_result"
    },
    {
     "data": {
      "image/png": "[encoded data removed]",
      "text/plain": [
       "<Figure size 360x360 with 1 Axes>"
      ]
     },
     "metadata": {
      "needs_background": "light"
     },
     "output_type": "display_data"
    }
   ],
   "source": [
    "# Shows extreme values of average age\n",
    "sns.displot(df['average_age'], kde = True, bins = 35)"
   ]
  },
  {
   "cell_type": "code",
   "execution_count": 25,
   "id": "81e2b444",
   "metadata": {},
   "outputs": [
    {
     "data": {
      "text/plain": [
       "29.70919158361019"
      ]
     },
     "execution_count": 25,
     "metadata": {},
     "output_type": "execute_result"
    }
   ],
   "source": [
    "# Check mean\n",
    "df['average_age'].mean()"
   ]
  },
  {
   "cell_type": "code",
   "execution_count": 26,
   "id": "666ba92f",
   "metadata": {},
   "outputs": [
    {
     "data": {
      "text/plain": [
       "29.5"
      ]
     },
     "execution_count": 26,
     "metadata": {},
     "output_type": "execute_result"
    }
   ],
   "source": [
    "# Check median\n",
    "df['average_age'].median()"
   ]
  },
  {
   "cell_type": "code",
   "execution_count": 27,
   "id": "ec633d9d",
   "metadata": {},
   "outputs": [
    {
     "data": {
      "text/plain": [
       "44.5"
      ]
     },
     "execution_count": 27,
     "metadata": {},
     "output_type": "execute_result"
    }
   ],
   "source": [
    "# Check max\n",
    "df['average_age'].max()"
   ]
  },
  {
   "cell_type": "code",
   "execution_count": 32,
   "id": "a0014a04",
   "metadata": {},
   "outputs": [
    {
     "data": {
      "text/plain": [
       "<seaborn.axisgrid.FacetGrid at 0x2ac3a71ba60>"
      ]
     },
     "execution_count": 32,
     "metadata": {},
     "output_type": "execute_result"
    },
    {
     "data": {
      "image/png": "[encoded data removed]",
      "text/plain": [
       "<Figure size 360x360 with 1 Axes>"
      ]
     },
     "metadata": {
      "needs_background": "light"
     },
     "output_type": "display_data"
    }
   ],
   "source": [
    "# Shows extreme values of average height\n",
    "sns.displot(df['average_height'], kde = True, bins = 35)"
   ]
  },
  {
   "cell_type": "code",
   "execution_count": 33,
   "id": "f5cf0d88",
   "metadata": {},
   "outputs": [
    {
     "data": {
      "text/plain": [
       "178.1324451827241"
      ]
     },
     "execution_count": 33,
     "metadata": {},
     "output_type": "execute_result"
    }
   ],
   "source": [
    "df['average_height'].mean()"
   ]
  },
  {
   "cell_type": "code",
   "execution_count": 35,
   "id": "1e7f8ec7",
   "metadata": {},
   "outputs": [
    {
     "data": {
      "text/plain": [
       "179.07"
      ]
     },
     "execution_count": 35,
     "metadata": {},
     "output_type": "execute_result"
    }
   ],
   "source": [
    "df['average_height'].median()"
   ]
  },
  {
   "cell_type": "code",
   "execution_count": 70,
   "id": "bb6ab25a",
   "metadata": {},
   "outputs": [
    {
     "data": {
      "text/plain": [
       "205.74"
      ]
     },
     "execution_count": 70,
     "metadata": {},
     "output_type": "execute_result"
    }
   ],
   "source": [
    "df['average_height'].max()"
   ]
  },
  {
   "cell_type": "markdown",
   "id": "602f272e",
   "metadata": {},
   "source": [
    "#### Hypothesis: Taller fighters have a longer reach."
   ]
  },
  {
   "cell_type": "markdown",
   "id": "4c53a73f",
   "metadata": {},
   "source": [
    "#### 3. Data prep for regression analysis"
   ]
  },
  {
   "cell_type": "code",
   "execution_count": 37,
   "id": "56186a9d",
   "metadata": {},
   "outputs": [
    {
     "data": {
      "image/png": "[encoded data removed]",
      "text/plain": [
       "<Figure size 432x288 with 1 Axes>"
      ]
     },
     "metadata": {
      "needs_background": "light"
     },
     "output_type": "display_data"
    }
   ],
   "source": [
    "# Create a scatterplot using matplotlib for another look at how the chosen variables plot against each other.\n",
    "df.plot(x = 'average_height', y = 'average_reach', style = 'o')  # The style option creates a scatterplot; without it, we only have lines.\n",
    "plt.title('Average height vs average reach')\n",
    "plt.xlabel('Average height')\n",
    "plt.ylabel('Average reach')\n",
    "plt.show()"
   ]
  },
  {
   "cell_type": "code",
   "execution_count": 42,
   "id": "3d291901",
   "metadata": {},
   "outputs": [],
   "source": [
    "# Reshape the variables into NumPy arrays and put them into separate objects.\n",
    "X = df['average_height'].values.reshape(-1,1)\n",
    "y = df['average_reach'].values.reshape(-1,1)"
   ]
  },
  {
   "cell_type": "code",
   "execution_count": 43,
   "id": "9070b569",
   "metadata": {},
   "outputs": [
    {
     "data": {
      "text/plain": [
       "array([[179.07],\n",
       "       [177.8 ],\n",
       "       [179.07],\n",
       "       ...,\n",
       "       [173.99],\n",
       "       [190.5 ],\n",
       "       [177.8 ]])"
      ]
     },
     "execution_count": 43,
     "metadata": {},
     "output_type": "execute_result"
    }
   ],
   "source": [
    "X"
   ]
  },
  {
   "cell_type": "code",
   "execution_count": 44,
   "id": "1096daa9",
   "metadata": {},
   "outputs": [
    {
     "data": {
      "text/plain": [
       "array([[182.88],\n",
       "       [185.42],\n",
       "       [181.61],\n",
       "       ...,\n",
       "       [184.15],\n",
       "       [194.31],\n",
       "       [181.61]])"
      ]
     },
     "execution_count": 44,
     "metadata": {},
     "output_type": "execute_result"
    }
   ],
   "source": [
    "y"
   ]
  },
  {
   "cell_type": "code",
   "execution_count": 45,
   "id": "db333537",
   "metadata": {},
   "outputs": [],
   "source": [
    "# Split the data into training set and test set.\n",
    "X_train, X_test, y_train, y_test = train_test_split(X, y, test_size = 0.3, random_state = 0)"
   ]
  },
  {
   "cell_type": "markdown",
   "id": "12aa8c92",
   "metadata": {},
   "source": [
    "#### 4. Regression analysis"
   ]
  },
  {
   "cell_type": "code",
   "execution_count": 52,
   "id": "cd7a3d22",
   "metadata": {},
   "outputs": [],
   "source": [
    "# Create a regression object\n",
    "regression = LinearRegression()"
   ]
  },
  {
   "cell_type": "code",
   "execution_count": 53,
   "id": "73f9b604",
   "metadata": {},
   "outputs": [
    {
     "data": {
      "text/plain": [
       "LinearRegression()"
      ]
     },
     "execution_count": 53,
     "metadata": {},
     "output_type": "execute_result"
    }
   ],
   "source": [
    "# Fit the regression object onto the training set.\n",
    "regression.fit(X_train, y_train)"
   ]
  },
  {
   "cell_type": "code",
   "execution_count": 51,
   "id": "bdab3d64",
   "metadata": {},
   "outputs": [],
   "source": [
    "# OR Alternative code\n",
    "# regression = LinearRegression().fit(X_train, y_train)"
   ]
  },
  {
   "cell_type": "code",
   "execution_count": 54,
   "id": "84cef62e",
   "metadata": {},
   "outputs": [],
   "source": [
    "# Predict the values of y using X.\n",
    "y_predicted = regression.predict(X_test)"
   ]
  },
  {
   "cell_type": "code",
   "execution_count": 56,
   "id": "2ccfd6b0",
   "metadata": {},
   "outputs": [
    {
     "data": {
      "image/png": "[encoded data removed]",
      "text/plain": [
       "<Figure size 432x288 with 1 Axes>"
      ]
     },
     "metadata": {
      "needs_background": "light"
     },
     "output_type": "display_data"
    }
   ],
   "source": [
    "# Creating a plot that shows the regression line from the model on the test set.\n",
    "plot_test = plt\n",
    "plot_test.scatter(X_test, y_test, color = 'grey', s = 15)\n",
    "plot_test.plot(X_test, y_predicted, color = 'red', linewidth = 2)\n",
    "plot_test.title('Average height vs average reach (Test set)')\n",
    "plot_test.xlabel('Average height')\n",
    "plot_test.ylabel('Average reach')\n",
    "plot_test.show()"
   ]
  },
  {
   "cell_type": "code",
   "execution_count": 57,
   "id": "df1b35ab",
   "metadata": {},
   "outputs": [],
   "source": [
    "# Create objects that contain the model summary statistics.\n",
    "rmse =  mean_squared_error(y_test, y_predicted) # This is the mean squared error\n",
    "r2 = r2_score(y_test, y_predicted) # This is the R2 score. "
   ]
  },
  {
   "cell_type": "code",
   "execution_count": 58,
   "id": "11b916bd",
   "metadata": {},
   "outputs": [
    {
     "name": "stdout",
     "output_type": "stream",
     "text": [
      "Slope: [[1.10600953]]\n",
      "Mean squared error:  11.829960740973709\n",
      "R2 score:  0.8865969083164382\n"
     ]
    }
   ],
   "source": [
    "# Print the model summary statistics to evaluate the performance of the model.\n",
    "print('Slope:' ,regression.coef_)\n",
    "print('Mean squared error: ', rmse)\n",
    "print('R2 score: ', r2)"
   ]
  },
  {
   "cell_type": "code",
   "execution_count": 59,
   "id": "3ef0620b",
   "metadata": {},
   "outputs": [
    {
     "data": {
      "text/plain": [
       "array([[162.52015432],\n",
       "       [180.78037169],\n",
       "       [168.13868274],\n",
       "       ...,\n",
       "       [180.78037169],\n",
       "       [169.54331484],\n",
       "       [197.63595695]])"
      ]
     },
     "execution_count": 59,
     "metadata": {},
     "output_type": "execute_result"
    }
   ],
   "source": [
    "y_predicted"
   ]
  },
  {
   "cell_type": "code",
   "execution_count": 60,
   "id": "56d27db1",
   "metadata": {},
   "outputs": [
    {
     "data": {
      "text/html": [
       "<div>\n",
       "<style scoped>\n",
       "    .dataframe tbody tr th:only-of-type {\n",
       "        vertical-align: middle;\n",
       "    }\n",
       "\n",
       "    .dataframe tbody tr th {\n",
       "        vertical-align: top;\n",
       "    }\n",
       "\n",
       "    .dataframe thead th {\n",
       "        text-align: right;\n",
       "    }\n",
       "</style>\n",
       "<table border=\"1\" class=\"dataframe\">\n",
       "  <thead>\n",
       "    <tr style=\"text-align: right;\">\n",
       "      <th></th>\n",
       "      <th>Actual</th>\n",
       "      <th>Predicted</th>\n",
       "    </tr>\n",
       "  </thead>\n",
       "  <tbody>\n",
       "    <tr>\n",
       "      <th>0</th>\n",
       "      <td>163.83</td>\n",
       "      <td>162.520154</td>\n",
       "    </tr>\n",
       "    <tr>\n",
       "      <th>1</th>\n",
       "      <td>180.34</td>\n",
       "      <td>180.780372</td>\n",
       "    </tr>\n",
       "    <tr>\n",
       "      <th>2</th>\n",
       "      <td>171.45</td>\n",
       "      <td>168.138683</td>\n",
       "    </tr>\n",
       "    <tr>\n",
       "      <th>3</th>\n",
       "      <td>187.96</td>\n",
       "      <td>190.612796</td>\n",
       "    </tr>\n",
       "    <tr>\n",
       "      <th>4</th>\n",
       "      <td>163.83</td>\n",
       "      <td>165.329419</td>\n",
       "    </tr>\n",
       "    <tr>\n",
       "      <th>5</th>\n",
       "      <td>162.56</td>\n",
       "      <td>166.734051</td>\n",
       "    </tr>\n",
       "    <tr>\n",
       "      <th>6</th>\n",
       "      <td>195.58</td>\n",
       "      <td>190.612796</td>\n",
       "    </tr>\n",
       "    <tr>\n",
       "      <th>7</th>\n",
       "      <td>191.77</td>\n",
       "      <td>184.994268</td>\n",
       "    </tr>\n",
       "    <tr>\n",
       "      <th>8</th>\n",
       "      <td>185.42</td>\n",
       "      <td>189.208164</td>\n",
       "    </tr>\n",
       "    <tr>\n",
       "      <th>9</th>\n",
       "      <td>180.34</td>\n",
       "      <td>184.994268</td>\n",
       "    </tr>\n",
       "    <tr>\n",
       "      <th>10</th>\n",
       "      <td>158.75</td>\n",
       "      <td>161.115522</td>\n",
       "    </tr>\n",
       "    <tr>\n",
       "      <th>11</th>\n",
       "      <td>184.15</td>\n",
       "      <td>184.994268</td>\n",
       "    </tr>\n",
       "    <tr>\n",
       "      <th>12</th>\n",
       "      <td>185.42</td>\n",
       "      <td>189.208164</td>\n",
       "    </tr>\n",
       "    <tr>\n",
       "      <th>13</th>\n",
       "      <td>180.34</td>\n",
       "      <td>179.375740</td>\n",
       "    </tr>\n",
       "    <tr>\n",
       "      <th>14</th>\n",
       "      <td>180.40</td>\n",
       "      <td>180.780372</td>\n",
       "    </tr>\n",
       "    <tr>\n",
       "      <th>15</th>\n",
       "      <td>180.34</td>\n",
       "      <td>172.352579</td>\n",
       "    </tr>\n",
       "    <tr>\n",
       "      <th>16</th>\n",
       "      <td>187.96</td>\n",
       "      <td>183.589636</td>\n",
       "    </tr>\n",
       "    <tr>\n",
       "      <th>17</th>\n",
       "      <td>196.85</td>\n",
       "      <td>194.826693</td>\n",
       "    </tr>\n",
       "    <tr>\n",
       "      <th>18</th>\n",
       "      <td>186.69</td>\n",
       "      <td>183.589636</td>\n",
       "    </tr>\n",
       "    <tr>\n",
       "      <th>19</th>\n",
       "      <td>173.99</td>\n",
       "      <td>173.757211</td>\n",
       "    </tr>\n",
       "    <tr>\n",
       "      <th>20</th>\n",
       "      <td>172.72</td>\n",
       "      <td>180.780372</td>\n",
       "    </tr>\n",
       "    <tr>\n",
       "      <th>21</th>\n",
       "      <td>185.42</td>\n",
       "      <td>184.994268</td>\n",
       "    </tr>\n",
       "    <tr>\n",
       "      <th>22</th>\n",
       "      <td>179.07</td>\n",
       "      <td>183.589636</td>\n",
       "    </tr>\n",
       "    <tr>\n",
       "      <th>23</th>\n",
       "      <td>182.88</td>\n",
       "      <td>186.398900</td>\n",
       "    </tr>\n",
       "    <tr>\n",
       "      <th>24</th>\n",
       "      <td>166.37</td>\n",
       "      <td>168.138683</td>\n",
       "    </tr>\n",
       "    <tr>\n",
       "      <th>25</th>\n",
       "      <td>172.72</td>\n",
       "      <td>169.543315</td>\n",
       "    </tr>\n",
       "    <tr>\n",
       "      <th>26</th>\n",
       "      <td>177.80</td>\n",
       "      <td>173.757211</td>\n",
       "    </tr>\n",
       "    <tr>\n",
       "      <th>27</th>\n",
       "      <td>182.88</td>\n",
       "      <td>183.589636</td>\n",
       "    </tr>\n",
       "    <tr>\n",
       "      <th>28</th>\n",
       "      <td>162.56</td>\n",
       "      <td>166.734051</td>\n",
       "    </tr>\n",
       "    <tr>\n",
       "      <th>29</th>\n",
       "      <td>190.50</td>\n",
       "      <td>186.398900</td>\n",
       "    </tr>\n",
       "  </tbody>\n",
       "</table>\n",
       "</div>"
      ],
      "text/plain": [
       "    Actual   Predicted\n",
       "0   163.83  162.520154\n",
       "1   180.34  180.780372\n",
       "2   171.45  168.138683\n",
       "3   187.96  190.612796\n",
       "4   163.83  165.329419\n",
       "5   162.56  166.734051\n",
       "6   195.58  190.612796\n",
       "7   191.77  184.994268\n",
       "8   185.42  189.208164\n",
       "9   180.34  184.994268\n",
       "10  158.75  161.115522\n",
       "11  184.15  184.994268\n",
       "12  185.42  189.208164\n",
       "13  180.34  179.375740\n",
       "14  180.40  180.780372\n",
       "15  180.34  172.352579\n",
       "16  187.96  183.589636\n",
       "17  196.85  194.826693\n",
       "18  186.69  183.589636\n",
       "19  173.99  173.757211\n",
       "20  172.72  180.780372\n",
       "21  185.42  184.994268\n",
       "22  179.07  183.589636\n",
       "23  182.88  186.398900\n",
       "24  166.37  168.138683\n",
       "25  172.72  169.543315\n",
       "26  177.80  173.757211\n",
       "27  182.88  183.589636\n",
       "28  162.56  166.734051\n",
       "29  190.50  186.398900"
      ]
     },
     "execution_count": 60,
     "metadata": {},
     "output_type": "execute_result"
    }
   ],
   "source": [
    "# Create a dataframe comparing the actual and predicted values of y.\n",
    "data = pd.DataFrame({'Actual': y_test.flatten(), 'Predicted': y_predicted.flatten()})\n",
    "data.head(30)"
   ]
  },
  {
   "cell_type": "markdown",
   "id": "4e9d4b20",
   "metadata": {},
   "source": [
    "#### The relationship indicates a straight regression line which means it would be able to predict fairly accurately."
   ]
  },
  {
   "cell_type": "markdown",
   "id": "e6809dee",
   "metadata": {},
   "source": [
    "#### Compare how the regression fits the training set"
   ]
  },
  {
   "cell_type": "code",
   "execution_count": 62,
   "id": "38d37149",
   "metadata": {},
   "outputs": [],
   "source": [
    "# Predict\n",
    "# This is predicts X_train\n",
    "y_predicted_train = regression.predict(X_train) "
   ]
  },
  {
   "cell_type": "code",
   "execution_count": 63,
   "id": "e9c0313c",
   "metadata": {},
   "outputs": [],
   "source": [
    "rmse = mean_squared_error(y_train, y_predicted_train)\n",
    "r2 = r2_score(y_train, y_predicted_train)"
   ]
  },
  {
   "cell_type": "code",
   "execution_count": 64,
   "id": "79da0b4b",
   "metadata": {},
   "outputs": [
    {
     "name": "stdout",
     "output_type": "stream",
     "text": [
      "Slope: [[1.10600953]]\n",
      "Mean squared error:  14.279926241043727\n",
      "R2 score:  0.852942923788925\n"
     ]
    }
   ],
   "source": [
    "print('Slope:' ,regression.coef_) # Positive relationship between 'average height' and 'average reach'.  \n",
    "print('Mean squared error: ', rmse) # A small MSE which means a good fit.\n",
    "print('R2 score: ', r2) # Values are closer to 1 indicating a good fit."
   ]
  },
  {
   "cell_type": "markdown",
   "id": "6228b620",
   "metadata": {},
   "source": [
    "#### Conclusion: The line is a good fit for the data."
   ]
  },
  {
   "cell_type": "code",
   "execution_count": 65,
   "id": "a620bf41",
   "metadata": {},
   "outputs": [
    {
     "data": {
      "image/png": "[encoded data removed]",
      "text/plain": [
       "<Figure size 432x288 with 1 Axes>"
      ]
     },
     "metadata": {
      "needs_background": "light"
     },
     "output_type": "display_data"
    }
   ],
   "source": [
    "# Visualizing the training set results.\n",
    "plot_test = plt\n",
    "plot_test.scatter(X_train, y_train, color='green', s = 15)\n",
    "plot_test.plot(X_train, y_predicted_train, color='red', linewidth =2)\n",
    "plot_test.title('Average height vs average reach (Test set)')\n",
    "plot_test.xlabel('Average height')\n",
    "plot_test.ylabel('Average reach')\n",
    "plot_test.show()"
   ]
  },
  {
   "cell_type": "markdown",
   "id": "60217c33",
   "metadata": {},
   "source": [
    "#### Bonus: performance improvement after removing outliers"
   ]
  },
  {
   "cell_type": "code",
   "execution_count": 71,
   "id": "7087cea7",
   "metadata": {},
   "outputs": [],
   "source": [
    "# Clean the extreme values from the \"Price per Unit\" variable observed during the consistency checks.\n",
    "\n",
    "df_test = df[df['average_reach'] <=211] "
   ]
  },
  {
   "cell_type": "code",
   "execution_count": 72,
   "id": "a5a5f5c0",
   "metadata": {},
   "outputs": [
    {
     "data": {
      "image/png": "[encoded data removed]",
      "text/plain": [
       "<Figure size 432x288 with 1 Axes>"
      ]
     },
     "metadata": {
      "needs_background": "light"
     },
     "output_type": "display_data"
    }
   ],
   "source": [
    "# See how the scatterplot looks without outliers.\n",
    "df_test.plot(x = 'average_height', y='average_reach', style='o')  \n",
    "plt.title('Average height vs average reach')  \n",
    "plt.xlabel('Average height')  \n",
    "plt.ylabel('Average reach')  \n",
    "plt.show()"
   ]
  },
  {
   "cell_type": "code",
   "execution_count": 73,
   "id": "15748104",
   "metadata": {},
   "outputs": [],
   "source": [
    "# Reshape again.\n",
    "X_2 = df_test['average_height'].values.reshape(-1,1)\n",
    "y_2 = df_test['average_reach'].values.reshape(-1,1)"
   ]
  },
  {
   "cell_type": "code",
   "execution_count": 74,
   "id": "372c4eba",
   "metadata": {},
   "outputs": [],
   "source": [
    "X_train_2, X_test_2, y_train_2, y_test_2 = train_test_split(X_2, y_2, test_size=0.3, random_state=0)"
   ]
  },
  {
   "cell_type": "code",
   "execution_count": 75,
   "id": "a4c2443b",
   "metadata": {},
   "outputs": [
    {
     "data": {
      "text/plain": [
       "LinearRegression()"
      ]
     },
     "execution_count": 75,
     "metadata": {},
     "output_type": "execute_result"
    }
   ],
   "source": [
    "# Run and fit the regression.\n",
    "regression = LinearRegression()  \n",
    "regression.fit(X_train_2, y_train_2)"
   ]
  },
  {
   "cell_type": "code",
   "execution_count": 76,
   "id": "a9404055",
   "metadata": {},
   "outputs": [],
   "source": [
    "# Predict.\n",
    "y_predicted_2 = regression.predict(X_test_2)"
   ]
  },
  {
   "cell_type": "code",
   "execution_count": 77,
   "id": "0ae0306f",
   "metadata": {},
   "outputs": [],
   "source": [
    "rmse = mean_squared_error(y_test_2, y_predicted_2)\n",
    "r2 = r2_score(y_test_2, y_predicted_2)"
   ]
  },
  {
   "cell_type": "code",
   "execution_count": 88,
   "id": "d7fe6b0d",
   "metadata": {},
   "outputs": [
    {
     "name": "stdout",
     "output_type": "stream",
     "text": [
      "Slope: [[1.10600953]]\n",
      "Mean squared error:  11.829960740973709\n",
      "R2 score:  0.8865969083164382\n"
     ]
    }
   ],
   "source": [
    "print('Slope:' ,regression.coef_) # Positive relationship between 'average height' and 'average reach'\n",
    "print('Mean squared error: ', rmse) # A small MSE which means a good fit.\n",
    "print('R2 score: ', r2) # Values are closer to 1 indicating a good fit."
   ]
  },
  {
   "cell_type": "markdown",
   "id": "dfc86c46",
   "metadata": {},
   "source": [
    "#### Conclusion: The line is a good fit for the data."
   ]
  },
  {
   "cell_type": "code",
   "execution_count": 79,
   "id": "13287633",
   "metadata": {},
   "outputs": [
    {
     "data": {
      "image/png": "[encoded data removed]",
      "text/plain": [
       "<Figure size 432x288 with 1 Axes>"
      ]
     },
     "metadata": {
      "needs_background": "light"
     },
     "output_type": "display_data"
    }
   ],
   "source": [
    "# Visualizing the test set results.\n",
    "plot_test = plt\n",
    "plot_test.scatter(X_test, y_test, color='gray', s = 15)\n",
    "plot_test.plot(X_train, regression.predict(X_train), color='red', linewidth = 2)\n",
    "plot_test.title('Average height vs average reach (Test set)')\n",
    "plot_test.xlabel('average_height')\n",
    "plot_test.ylabel('average_reach')\n",
    "plot_test.show()"
   ]
  },
  {
   "cell_type": "code",
   "execution_count": 87,
   "id": "fb06281e",
   "metadata": {},
   "outputs": [
    {
     "data": {
      "text/html": [
       "<div>\n",
       "<style scoped>\n",
       "    .dataframe tbody tr th:only-of-type {\n",
       "        vertical-align: middle;\n",
       "    }\n",
       "\n",
       "    .dataframe tbody tr th {\n",
       "        vertical-align: top;\n",
       "    }\n",
       "\n",
       "    .dataframe thead th {\n",
       "        text-align: right;\n",
       "    }\n",
       "</style>\n",
       "<table border=\"1\" class=\"dataframe\">\n",
       "  <thead>\n",
       "    <tr style=\"text-align: right;\">\n",
       "      <th></th>\n",
       "      <th>Actual</th>\n",
       "      <th>Predicted</th>\n",
       "    </tr>\n",
       "  </thead>\n",
       "  <tbody>\n",
       "    <tr>\n",
       "      <th>0</th>\n",
       "      <td>163.83</td>\n",
       "      <td>162.520154</td>\n",
       "    </tr>\n",
       "    <tr>\n",
       "      <th>1</th>\n",
       "      <td>180.34</td>\n",
       "      <td>180.780372</td>\n",
       "    </tr>\n",
       "    <tr>\n",
       "      <th>2</th>\n",
       "      <td>171.45</td>\n",
       "      <td>168.138683</td>\n",
       "    </tr>\n",
       "    <tr>\n",
       "      <th>3</th>\n",
       "      <td>187.96</td>\n",
       "      <td>190.612796</td>\n",
       "    </tr>\n",
       "    <tr>\n",
       "      <th>4</th>\n",
       "      <td>163.83</td>\n",
       "      <td>165.329419</td>\n",
       "    </tr>\n",
       "    <tr>\n",
       "      <th>5</th>\n",
       "      <td>162.56</td>\n",
       "      <td>166.734051</td>\n",
       "    </tr>\n",
       "    <tr>\n",
       "      <th>6</th>\n",
       "      <td>195.58</td>\n",
       "      <td>190.612796</td>\n",
       "    </tr>\n",
       "    <tr>\n",
       "      <th>7</th>\n",
       "      <td>191.77</td>\n",
       "      <td>184.994268</td>\n",
       "    </tr>\n",
       "    <tr>\n",
       "      <th>8</th>\n",
       "      <td>185.42</td>\n",
       "      <td>189.208164</td>\n",
       "    </tr>\n",
       "    <tr>\n",
       "      <th>9</th>\n",
       "      <td>180.34</td>\n",
       "      <td>184.994268</td>\n",
       "    </tr>\n",
       "    <tr>\n",
       "      <th>10</th>\n",
       "      <td>158.75</td>\n",
       "      <td>161.115522</td>\n",
       "    </tr>\n",
       "    <tr>\n",
       "      <th>11</th>\n",
       "      <td>184.15</td>\n",
       "      <td>184.994268</td>\n",
       "    </tr>\n",
       "    <tr>\n",
       "      <th>12</th>\n",
       "      <td>185.42</td>\n",
       "      <td>189.208164</td>\n",
       "    </tr>\n",
       "    <tr>\n",
       "      <th>13</th>\n",
       "      <td>180.34</td>\n",
       "      <td>179.375740</td>\n",
       "    </tr>\n",
       "    <tr>\n",
       "      <th>14</th>\n",
       "      <td>180.40</td>\n",
       "      <td>180.780372</td>\n",
       "    </tr>\n",
       "    <tr>\n",
       "      <th>15</th>\n",
       "      <td>180.34</td>\n",
       "      <td>172.352579</td>\n",
       "    </tr>\n",
       "    <tr>\n",
       "      <th>16</th>\n",
       "      <td>187.96</td>\n",
       "      <td>183.589636</td>\n",
       "    </tr>\n",
       "    <tr>\n",
       "      <th>17</th>\n",
       "      <td>196.85</td>\n",
       "      <td>194.826693</td>\n",
       "    </tr>\n",
       "    <tr>\n",
       "      <th>18</th>\n",
       "      <td>186.69</td>\n",
       "      <td>183.589636</td>\n",
       "    </tr>\n",
       "    <tr>\n",
       "      <th>19</th>\n",
       "      <td>173.99</td>\n",
       "      <td>173.757211</td>\n",
       "    </tr>\n",
       "    <tr>\n",
       "      <th>20</th>\n",
       "      <td>172.72</td>\n",
       "      <td>180.780372</td>\n",
       "    </tr>\n",
       "    <tr>\n",
       "      <th>21</th>\n",
       "      <td>185.42</td>\n",
       "      <td>184.994268</td>\n",
       "    </tr>\n",
       "    <tr>\n",
       "      <th>22</th>\n",
       "      <td>179.07</td>\n",
       "      <td>183.589636</td>\n",
       "    </tr>\n",
       "    <tr>\n",
       "      <th>23</th>\n",
       "      <td>182.88</td>\n",
       "      <td>186.398900</td>\n",
       "    </tr>\n",
       "    <tr>\n",
       "      <th>24</th>\n",
       "      <td>166.37</td>\n",
       "      <td>168.138683</td>\n",
       "    </tr>\n",
       "  </tbody>\n",
       "</table>\n",
       "</div>"
      ],
      "text/plain": [
       "    Actual   Predicted\n",
       "0   163.83  162.520154\n",
       "1   180.34  180.780372\n",
       "2   171.45  168.138683\n",
       "3   187.96  190.612796\n",
       "4   163.83  165.329419\n",
       "5   162.56  166.734051\n",
       "6   195.58  190.612796\n",
       "7   191.77  184.994268\n",
       "8   185.42  189.208164\n",
       "9   180.34  184.994268\n",
       "10  158.75  161.115522\n",
       "11  184.15  184.994268\n",
       "12  185.42  189.208164\n",
       "13  180.34  179.375740\n",
       "14  180.40  180.780372\n",
       "15  180.34  172.352579\n",
       "16  187.96  183.589636\n",
       "17  196.85  194.826693\n",
       "18  186.69  183.589636\n",
       "19  173.99  173.757211\n",
       "20  172.72  180.780372\n",
       "21  185.42  184.994268\n",
       "22  179.07  183.589636\n",
       "23  182.88  186.398900\n",
       "24  166.37  168.138683"
      ]
     },
     "execution_count": 87,
     "metadata": {},
     "output_type": "execute_result"
    }
   ],
   "source": [
    "# Create a dataframe comparing the actual and predicted values of y.\n",
    "data = pd.DataFrame({'Actual': y_test_2.flatten(), 'Predicted': y_predicted_2.flatten()})\n",
    "\n",
    "data.head(25)"
   ]
  },
  {
   "cell_type": "markdown",
   "id": "fd10dc18",
   "metadata": {},
   "source": [
    "#### The relationship follows a straight regression line which means it would be able to predict fairly accurately."
   ]
  }
 ],
 "metadata": {
  "kernelspec": {
   "display_name": "Python 3 (ipykernel)",
   "language": "python",
   "name": "python3"
  },
  "language_info": {
   "codemirror_mode": {
    "name": "ipython",
    "version": 3
   },
   "file_extension": ".py",
   "mimetype": "text/x-python",
   "name": "python",
   "nbconvert_exporter": "python",
   "pygments_lexer": "ipython3",
   "version": "3.8.5"
  }
 },
 "nbformat": 4,
 "nbformat_minor": 5
}
